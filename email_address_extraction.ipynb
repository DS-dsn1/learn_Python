{
 "cells": [
  {
   "cell_type": "code",
   "execution_count": 1,
   "metadata": {
    "collapsed": false
   },
   "outputs": [
    {
     "name": "stdout",
     "output_type": "stream",
     "text": [
      "info@github.com\n"
     ]
    }
   ],
   "source": [
    "import re # import module\n",
    "\n",
    "pattern = r\"([\\w\\.-]+)@([\\w\\.-]+)(\\.[\\w\\.]+)\"\n",
    "\n",
    "str = 'Please contact info@github.com for assistance...' # some text with email address\n",
    "\n",
    "match = re.search(pattern, str)\n",
    "if match:\n",
    "    print(match.group())"
   ]
  },
  {
   "cell_type": "code",
   "execution_count": null,
   "metadata": {
    "collapsed": true
   },
   "outputs": [],
   "source": []
  }
 ],
 "metadata": {
  "kernelspec": {
   "display_name": "Python [default]",
   "language": "python",
   "name": "python2"
  },
  "language_info": {
   "codemirror_mode": {
    "name": "ipython",
    "version": 2
   },
   "file_extension": ".py",
   "mimetype": "text/x-python",
   "name": "python",
   "nbconvert_exporter": "python",
   "pygments_lexer": "ipython2",
   "version": "2.7.12"
  }
 },
 "nbformat": 4,
 "nbformat_minor": 1
}
