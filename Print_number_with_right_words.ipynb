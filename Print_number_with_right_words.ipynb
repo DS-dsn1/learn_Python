{
 "cells": [
  {
   "cell_type": "code",
   "execution_count": null,
   "metadata": {
    "collapsed": false
   },
   "outputs": [],
   "source": [
    "import random                 # Импортируем модуль для генерации случайного числа\n",
    "\n",
    "x = random.randint(0, 1000)   # Генерируем целое число от 0 до 1000\n",
    "# print x                     # Можем вывести это число для проверки того, что наш алгоритм работает корректно\n",
    "a = str(x)                    # Присваиваем переменной строковое представление сгенерированного числа\n",
    "if x % 10 in (2, 3, 4):       # Составляем условие. Если число заканчивается на 2,3,4 - добавляем к нему \"рубля\"\n",
    "    print a + ' ' + 'рубля'\n",
    "elif x % 10 == 1:\n",
    "    print a + ' ' + 'рубль'   # Если число заканчивается на 1 - добавляем \"рубль\"\n",
    "else:\n",
    "    print a + ' ' + 'рублей'  # Если число не заканчивается ни на 1, ни на 2,3,4 - добавляем \"рублей\" и получаем строку"
   ]
  },
  {
   "cell_type": "code",
   "execution_count": null,
   "metadata": {
    "collapsed": true
   },
   "outputs": [],
   "source": []
  }
 ],
 "metadata": {
  "anaconda-cloud": {},
  "kernelspec": {
   "display_name": "Python [default]",
   "language": "python",
   "name": "python2"
  },
  "language_info": {
   "codemirror_mode": {
    "name": "ipython",
    "version": 2
   },
   "file_extension": ".py",
   "mimetype": "text/x-python",
   "name": "python",
   "nbconvert_exporter": "python",
   "pygments_lexer": "ipython2",
   "version": "2.7.12"
  }
 },
 "nbformat": 4,
 "nbformat_minor": 1
}
